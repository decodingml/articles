{
  "cells": [
    {
      "cell_type": "markdown",
      "metadata": {
        "id": "Bqgy4-mCQkdd"
      },
      "source": [
        "#### Download the Python Module from Github"
      ]
    },
    {
      "cell_type": "code",
      "execution_count": null,
      "metadata": {
        "colab": {
          "base_uri": "https://localhost:8080/"
        },
        "id": "efCMy7XtQjpi",
        "outputId": "bcb2cac6-3785-45bc-bdce-bd147c9b4c08"
      },
      "outputs": [],
      "source": [
        "!git clone https://github.com/decodingml/articles-code.git\n",
        "%cd articles-code/articles/generative_ai/diffusion_models_fundamentals\n"
      ]
    },
    {
      "cell_type": "markdown",
      "metadata": {
        "id": "0bpvh4xJQucx"
      },
      "source": [
        "#### Donwload poetry and install all the dependencies directly in the notebook"
      ]
    },
    {
      "cell_type": "code",
      "execution_count": null,
      "metadata": {
        "colab": {
          "base_uri": "https://localhost:8080/"
        },
        "id": "JqUBVEWY6Vpc",
        "outputId": "e4b91e5e-71c0-480b-becb-3943eddac032"
      },
      "outputs": [],
      "source": [
        "!curl -sSL https://install.python-poetry.org | python3 -\n",
        "\n",
        "import os\n",
        "os.environ[\"PATH\"] += f':{os.path.expanduser(\"~\")}/.local/bin'\n",
        "\n",
        "!poetry config virtualenvs.create false\n",
        "!make setup"
      ]
    },
    {
      "cell_type": "markdown",
      "metadata": {
        "id": "_E7m1NywSslX"
      },
      "source": [
        "####Setup environment variables for Huggingface"
      ]
    },
    {
      "cell_type": "code",
      "execution_count": null,
      "metadata": {
        "id": "2NvgtQYDMDWo"
      },
      "outputs": [],
      "source": [
        "import os\n",
        "\n",
        "os.environ[\"HF_TOKEN\"] = \"<HUGGINGFACE_TOKEN>\""
      ]
    },
    {
      "cell_type": "markdown",
      "metadata": {
        "id": "0YVZtzgBTEJl"
      },
      "source": [
        "#### Load Model and Launch Inference Interface"
      ]
    },
    {
      "cell_type": "code",
      "execution_count": null,
      "metadata": {
        "colab": {
          "base_uri": "https://localhost:8080/"
        },
        "id": "xf5i1EXF6Z3i",
        "outputId": "a3e80632-47cf-4c0b-c687-d89bf97852f5"
      },
      "outputs": [],
      "source": [
        "!make inference"
      ]
    }
  ],
  "metadata": {
    "accelerator": "GPU",
    "colab": {
      "gpuType": "T4",
      "provenance": []
    },
    "kernelspec": {
      "display_name": "Python 3",
      "name": "python3"
    },
    "language_info": {
      "name": "python"
    }
  },
  "nbformat": 4,
  "nbformat_minor": 0
}
