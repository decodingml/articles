{
  "cells": [
    {
      "cell_type": "markdown",
      "metadata": {
        "id": "Iznpnq0qNHRn"
      },
      "source": [
        "#### Download the Python Module from Github"
      ]
    },
    {
      "cell_type": "code",
      "execution_count": null,
      "metadata": {
        "colab": {
          "base_uri": "https://localhost:8080/"
        },
        "id": "EA6jBwDYxJj4",
        "outputId": "cb494519-6ae5-4400-efd5-33a07bf49a8b"
      },
      "outputs": [],
      "source": [
        "!git clone https://github.com/decodingml/articles-code.git\n",
        "%cd articles-code/articles/generative_ai/diffusion_models_fundamentals\n"
      ]
    },
    {
      "cell_type": "markdown",
      "metadata": {
        "id": "TrPCmeAHNPlC"
      },
      "source": [
        "#### Donwload poetry and install all the dependencies directly in the notebook"
      ]
    },
    {
      "cell_type": "code",
      "execution_count": null,
      "metadata": {
        "colab": {
          "base_uri": "https://localhost:8080/"
        },
        "id": "CfFQTwq20taa",
        "outputId": "adb28d64-b541-46e4-88d2-8f896213b82b"
      },
      "outputs": [],
      "source": [
        "!curl -sSL https://install.python-poetry.org | python3 -\n",
        "\n",
        "import os\n",
        "os.environ[\"PATH\"] += f':{os.path.expanduser(\"~\")}/.local/bin'\n",
        "\n",
        "!poetry config virtualenvs.create false\n",
        "!make setup"
      ]
    },
    {
      "cell_type": "markdown",
      "metadata": {
        "id": "fTqeOCEzNWfG"
      },
      "source": [
        "#### Setup environment variables for W&B and Huggingface"
      ]
    },
    {
      "cell_type": "code",
      "execution_count": null,
      "metadata": {
        "id": "GBeNbqQN-Wlw"
      },
      "outputs": [],
      "source": [
        "import os\n",
        "\n",
        "os.environ[\"WANDB_API_KEY\"] = \"<WANDB_API_KEY>\"\n",
        "os.environ[\"WANDB_INIT_TIMEOUT\"] =\"300\"\n",
        "os.environ[\"HF_TOKEN\"] = \"<HUGGINGFACE_TOKEN>\""
      ]
    },
    {
      "cell_type": "markdown",
      "metadata": {
        "id": "Sa2mWsUpNeKW"
      },
      "source": [
        "#### Run the training pipeline"
      ]
    },
    {
      "cell_type": "code",
      "execution_count": null,
      "metadata": {
        "colab": {
          "base_uri": "https://localhost:8080/"
        },
        "id": "nj8bHTvCAGHi",
        "outputId": "79eb1cb7-1ace-42e8-913f-7ea3ce31e372"
      },
      "outputs": [],
      "source": [
        "!make train"
      ]
    }
  ],
  "metadata": {
    "accelerator": "GPU",
    "colab": {
      "gpuType": "T4",
      "provenance": []
    },
    "kernelspec": {
      "display_name": "Python 3",
      "name": "python3"
    },
    "language_info": {
      "name": "python"
    }
  },
  "nbformat": 4,
  "nbformat_minor": 0
}
